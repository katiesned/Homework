{
 "cells": [
  {
   "cell_type": "markdown",
   "id": "abb1daae",
   "metadata": {},
   "source": [
    "# Algorithms For Data Science - Homework 2  \n",
    "Katie Snedeker"
   ]
  },
  {
   "cell_type": "markdown",
   "id": "03fea749",
   "metadata": {},
   "source": [
    "## Import Packages and Data"
   ]
  },
  {
   "cell_type": "code",
   "execution_count": 1,
   "id": "a1150ca7",
   "metadata": {},
   "outputs": [],
   "source": [
    "import pandas as pd\n",
    "import numpy as np\n",
    "from sklearn.preprocessing import MinMaxScaler, normalize\n",
    "import matplotlib.pyplot as plt\n",
    "import matplotlib.image as mpimg\n",
    "#import seaborn as sns\n",
    "%matplotlib inline"
   ]
  },
  {
   "cell_type": "code",
   "execution_count": 2,
   "id": "26fa3143",
   "metadata": {},
   "outputs": [],
   "source": [
    "from math import sqrt, cos, pi"
   ]
  },
  {
   "cell_type": "code",
   "execution_count": 3,
   "id": "f279534f",
   "metadata": {},
   "outputs": [
    {
     "data": {
      "text/html": [
       "<div>\n",
       "<style scoped>\n",
       "    .dataframe tbody tr th:only-of-type {\n",
       "        vertical-align: middle;\n",
       "    }\n",
       "\n",
       "    .dataframe tbody tr th {\n",
       "        vertical-align: top;\n",
       "    }\n",
       "\n",
       "    .dataframe thead th {\n",
       "        text-align: right;\n",
       "    }\n",
       "</style>\n",
       "<table border=\"1\" class=\"dataframe\">\n",
       "  <thead>\n",
       "    <tr style=\"text-align: right;\">\n",
       "      <th></th>\n",
       "      <th>sepal_length</th>\n",
       "      <th>sepal_width</th>\n",
       "      <th>petal_length</th>\n",
       "      <th>petal_width</th>\n",
       "      <th>species</th>\n",
       "    </tr>\n",
       "  </thead>\n",
       "  <tbody>\n",
       "    <tr>\n",
       "      <th>0</th>\n",
       "      <td>5.1</td>\n",
       "      <td>3.5</td>\n",
       "      <td>1.4</td>\n",
       "      <td>0.2</td>\n",
       "      <td>setosa</td>\n",
       "    </tr>\n",
       "    <tr>\n",
       "      <th>1</th>\n",
       "      <td>4.9</td>\n",
       "      <td>3.0</td>\n",
       "      <td>1.4</td>\n",
       "      <td>0.2</td>\n",
       "      <td>setosa</td>\n",
       "    </tr>\n",
       "    <tr>\n",
       "      <th>2</th>\n",
       "      <td>4.7</td>\n",
       "      <td>3.2</td>\n",
       "      <td>1.3</td>\n",
       "      <td>0.2</td>\n",
       "      <td>setosa</td>\n",
       "    </tr>\n",
       "    <tr>\n",
       "      <th>3</th>\n",
       "      <td>4.6</td>\n",
       "      <td>3.1</td>\n",
       "      <td>1.5</td>\n",
       "      <td>0.2</td>\n",
       "      <td>setosa</td>\n",
       "    </tr>\n",
       "    <tr>\n",
       "      <th>4</th>\n",
       "      <td>5.0</td>\n",
       "      <td>3.6</td>\n",
       "      <td>1.4</td>\n",
       "      <td>0.2</td>\n",
       "      <td>setosa</td>\n",
       "    </tr>\n",
       "  </tbody>\n",
       "</table>\n",
       "</div>"
      ],
      "text/plain": [
       "   sepal_length  sepal_width  petal_length  petal_width species\n",
       "0           5.1          3.5           1.4          0.2  setosa\n",
       "1           4.9          3.0           1.4          0.2  setosa\n",
       "2           4.7          3.2           1.3          0.2  setosa\n",
       "3           4.6          3.1           1.5          0.2  setosa\n",
       "4           5.0          3.6           1.4          0.2  setosa"
      ]
     },
     "execution_count": 3,
     "metadata": {},
     "output_type": "execute_result"
    }
   ],
   "source": [
    "# iris dataset manually uploaded\n",
    "iris = pd.read_csv(\"iris(3).csv\")\n",
    "pd.DataFrame.head(iris)"
   ]
  },
  {
   "cell_type": "markdown",
   "id": "0819764f",
   "metadata": {},
   "source": [
    "## Problem 1 - Module 3 \n",
    "*Note this is not a Collaborative Problem*\n",
    "\n",
    "10 Points Total  \n",
    "In this problem, implement code to normalize the data in two forms, the first is by feature in\n",
    "the range of [0 1] (Note: Use the Data Processing.pdf Section 4.1.1 Min-max normalization),\n",
    "the second is by observation where each observations feature sums to unit length (1). The Iris\n",
    "data is to be used."
   ]
  },
  {
   "cell_type": "markdown",
   "id": "efb82ef2",
   "metadata": {},
   "source": [
    "(a) (5 Points) Normalize the Iris data by feature in the range of [0 1] as described in the Min-max normalization section.  \n"
   ]
  },
  {
   "cell_type": "code",
   "execution_count": 4,
   "id": "79ec82fc",
   "metadata": {},
   "outputs": [],
   "source": [
    "# get the numeric columns, since species does not get normalized\n",
    "num_columns = ['sepal_length',\n",
    "               'sepal_width',\n",
    "               'petal_length',\n",
    "               'petal_width']\n",
    "# scale using sklearns built in MinMaxScaler function\n",
    "scaler = MinMaxScaler()\n",
    "scaler.fit(iris[num_columns])\n",
    "iris_scaled = scaler.transform(iris[num_columns])"
   ]
  },
  {
   "cell_type": "markdown",
   "id": "019fce04",
   "metadata": {},
   "source": [
    "(b) (5 Points) Normalize the Iris data by observation to unit length, note that each of the\n",
    "observations features need to sum to 1."
   ]
  },
  {
   "cell_type": "code",
   "execution_count": 5,
   "id": "5db47005",
   "metadata": {},
   "outputs": [
    {
     "name": "stdout",
     "output_type": "stream",
     "text": [
      "1.0\n",
      "1.0\n",
      "1.0\n"
     ]
    }
   ],
   "source": [
    "scaler_b = normalize(iris[num_columns],norm='l1')\n",
    "# Check some rows to make sure they add up to 1\n",
    "print(sum(scaler_b[1]))\n",
    "print(sum(scaler_b[100]))\n",
    "print(sum(scaler_b[149]))"
   ]
  },
  {
   "cell_type": "markdown",
   "id": "e02e1fe0",
   "metadata": {},
   "source": [
    "## Problem 2\n",
    "*Note this is not a Collaborative Problem*  \n",
    "\n",
    "15 Points Total  \n",
    "In this problem the goal is to build a set of numerical images from a set of arrays. The data set\n",
    "is from the Kaggle web site will be used: https://www.kaggle.com/c/digit-recognizer/data\n",
    "This data has a training.csv, test.csv and sample submission.csv files. In this exercise the focus\n",
    "will be on the train.csv data.   \n",
    "**The web site has the following data description:**\n",
    "The data files train.csv and test.csv contain gray-scale images of hand-drawn digits, from zero\n",
    "through nine. Each image is 28 pixels in height and 28 pixels in width, for a total of 784 pixels in total. Each\n",
    "pixel has a single pixel-value associated with it, indicating the lightness or darkness of that pixel,\n",
    "with higher numbers meaning darker. This pixel-value is an integer between 0 and 255, inclusive.\n",
    "The training data set, (train.csv), has 785 columns. The first column, called ”label”, is the digit\n",
    "that was drawn by the user. The rest of the columns contain the pixel-values of the associated\n",
    "image.  \n",
    "Each pixel column in the training set has a name like pixel x, where x is an integer between\n",
    "0 and 783, inclusive. To locate this pixel on the image, suppose that we have decomposed x as\n",
    "x = i ∗ 28 + j, where i and j are integers between 0 and 27, inclusive. Then pixel x is located on\n",
    "row i and column j of a 28 x 28 matrix, (indexing by zero).For example, pixel 31 indicates the pixel that is in the fourth column from the left, and the second row from the top, as in the ascii-diagram below. \n",
    "\n",
    "This data is set up in a csv file which will require the reshaping of the data to be 28 × 28 matrix\n",
    "representing images. There are 42000 images in the train.csv file. For this problem it is only\n",
    "necessary to process approximately 100 images, 10 each of the numbers from 0 through 9. The\n",
    "goal is to learn how to generate features from images using transforms and first order statistics.\n"
   ]
  },
  {
   "cell_type": "markdown",
   "id": "0d3822b0",
   "metadata": {},
   "source": [
    "(a) (5 points) Develop an algorithm to read in the train.csv file."
   ]
  },
  {
   "cell_type": "code",
   "execution_count": 6,
   "id": "a415784a",
   "metadata": {},
   "outputs": [
    {
     "data": {
      "text/html": [
       "<div>\n",
       "<style scoped>\n",
       "    .dataframe tbody tr th:only-of-type {\n",
       "        vertical-align: middle;\n",
       "    }\n",
       "\n",
       "    .dataframe tbody tr th {\n",
       "        vertical-align: top;\n",
       "    }\n",
       "\n",
       "    .dataframe thead th {\n",
       "        text-align: right;\n",
       "    }\n",
       "</style>\n",
       "<table border=\"1\" class=\"dataframe\">\n",
       "  <thead>\n",
       "    <tr style=\"text-align: right;\">\n",
       "      <th></th>\n",
       "      <th>label</th>\n",
       "      <th>pixel0</th>\n",
       "      <th>pixel1</th>\n",
       "      <th>pixel2</th>\n",
       "      <th>pixel3</th>\n",
       "      <th>pixel4</th>\n",
       "      <th>pixel5</th>\n",
       "      <th>pixel6</th>\n",
       "      <th>pixel7</th>\n",
       "      <th>pixel8</th>\n",
       "      <th>...</th>\n",
       "      <th>pixel774</th>\n",
       "      <th>pixel775</th>\n",
       "      <th>pixel776</th>\n",
       "      <th>pixel777</th>\n",
       "      <th>pixel778</th>\n",
       "      <th>pixel779</th>\n",
       "      <th>pixel780</th>\n",
       "      <th>pixel781</th>\n",
       "      <th>pixel782</th>\n",
       "      <th>pixel783</th>\n",
       "    </tr>\n",
       "  </thead>\n",
       "  <tbody>\n",
       "    <tr>\n",
       "      <th>0</th>\n",
       "      <td>1</td>\n",
       "      <td>0</td>\n",
       "      <td>0</td>\n",
       "      <td>0</td>\n",
       "      <td>0</td>\n",
       "      <td>0</td>\n",
       "      <td>0</td>\n",
       "      <td>0</td>\n",
       "      <td>0</td>\n",
       "      <td>0</td>\n",
       "      <td>...</td>\n",
       "      <td>0</td>\n",
       "      <td>0</td>\n",
       "      <td>0</td>\n",
       "      <td>0</td>\n",
       "      <td>0</td>\n",
       "      <td>0</td>\n",
       "      <td>0</td>\n",
       "      <td>0</td>\n",
       "      <td>0</td>\n",
       "      <td>0</td>\n",
       "    </tr>\n",
       "    <tr>\n",
       "      <th>1</th>\n",
       "      <td>0</td>\n",
       "      <td>0</td>\n",
       "      <td>0</td>\n",
       "      <td>0</td>\n",
       "      <td>0</td>\n",
       "      <td>0</td>\n",
       "      <td>0</td>\n",
       "      <td>0</td>\n",
       "      <td>0</td>\n",
       "      <td>0</td>\n",
       "      <td>...</td>\n",
       "      <td>0</td>\n",
       "      <td>0</td>\n",
       "      <td>0</td>\n",
       "      <td>0</td>\n",
       "      <td>0</td>\n",
       "      <td>0</td>\n",
       "      <td>0</td>\n",
       "      <td>0</td>\n",
       "      <td>0</td>\n",
       "      <td>0</td>\n",
       "    </tr>\n",
       "    <tr>\n",
       "      <th>2</th>\n",
       "      <td>1</td>\n",
       "      <td>0</td>\n",
       "      <td>0</td>\n",
       "      <td>0</td>\n",
       "      <td>0</td>\n",
       "      <td>0</td>\n",
       "      <td>0</td>\n",
       "      <td>0</td>\n",
       "      <td>0</td>\n",
       "      <td>0</td>\n",
       "      <td>...</td>\n",
       "      <td>0</td>\n",
       "      <td>0</td>\n",
       "      <td>0</td>\n",
       "      <td>0</td>\n",
       "      <td>0</td>\n",
       "      <td>0</td>\n",
       "      <td>0</td>\n",
       "      <td>0</td>\n",
       "      <td>0</td>\n",
       "      <td>0</td>\n",
       "    </tr>\n",
       "    <tr>\n",
       "      <th>3</th>\n",
       "      <td>4</td>\n",
       "      <td>0</td>\n",
       "      <td>0</td>\n",
       "      <td>0</td>\n",
       "      <td>0</td>\n",
       "      <td>0</td>\n",
       "      <td>0</td>\n",
       "      <td>0</td>\n",
       "      <td>0</td>\n",
       "      <td>0</td>\n",
       "      <td>...</td>\n",
       "      <td>0</td>\n",
       "      <td>0</td>\n",
       "      <td>0</td>\n",
       "      <td>0</td>\n",
       "      <td>0</td>\n",
       "      <td>0</td>\n",
       "      <td>0</td>\n",
       "      <td>0</td>\n",
       "      <td>0</td>\n",
       "      <td>0</td>\n",
       "    </tr>\n",
       "    <tr>\n",
       "      <th>4</th>\n",
       "      <td>0</td>\n",
       "      <td>0</td>\n",
       "      <td>0</td>\n",
       "      <td>0</td>\n",
       "      <td>0</td>\n",
       "      <td>0</td>\n",
       "      <td>0</td>\n",
       "      <td>0</td>\n",
       "      <td>0</td>\n",
       "      <td>0</td>\n",
       "      <td>...</td>\n",
       "      <td>0</td>\n",
       "      <td>0</td>\n",
       "      <td>0</td>\n",
       "      <td>0</td>\n",
       "      <td>0</td>\n",
       "      <td>0</td>\n",
       "      <td>0</td>\n",
       "      <td>0</td>\n",
       "      <td>0</td>\n",
       "      <td>0</td>\n",
       "    </tr>\n",
       "  </tbody>\n",
       "</table>\n",
       "<p>5 rows × 785 columns</p>\n",
       "</div>"
      ],
      "text/plain": [
       "   label  pixel0  pixel1  pixel2  pixel3  pixel4  pixel5  pixel6  pixel7  \\\n",
       "0      1       0       0       0       0       0       0       0       0   \n",
       "1      0       0       0       0       0       0       0       0       0   \n",
       "2      1       0       0       0       0       0       0       0       0   \n",
       "3      4       0       0       0       0       0       0       0       0   \n",
       "4      0       0       0       0       0       0       0       0       0   \n",
       "\n",
       "   pixel8  ...  pixel774  pixel775  pixel776  pixel777  pixel778  pixel779  \\\n",
       "0       0  ...         0         0         0         0         0         0   \n",
       "1       0  ...         0         0         0         0         0         0   \n",
       "2       0  ...         0         0         0         0         0         0   \n",
       "3       0  ...         0         0         0         0         0         0   \n",
       "4       0  ...         0         0         0         0         0         0   \n",
       "\n",
       "   pixel780  pixel781  pixel782  pixel783  \n",
       "0         0         0         0         0  \n",
       "1         0         0         0         0  \n",
       "2         0         0         0         0  \n",
       "3         0         0         0         0  \n",
       "4         0         0         0         0  \n",
       "\n",
       "[5 rows x 785 columns]"
      ]
     },
     "execution_count": 6,
     "metadata": {},
     "output_type": "execute_result"
    }
   ],
   "source": [
    "# train dataset manually uploaded to directory\n",
    "train = pd.read_csv(\"train.csv\")\n",
    "pd.DataFrame.head(train)"
   ]
  },
  {
   "cell_type": "code",
   "execution_count": 7,
   "id": "fbb25ae2",
   "metadata": {},
   "outputs": [
    {
     "name": "stdout",
     "output_type": "stream",
     "text": [
      "(1000, 785)\n"
     ]
    }
   ],
   "source": [
    "# keep only 1000 observations\n",
    "train = train.iloc[0:1000,:]\n",
    "print(train.shape)"
   ]
  },
  {
   "cell_type": "markdown",
   "id": "98f1b479",
   "metadata": {},
   "source": [
    "(b) (5 points) Develop an algorithm to store the data in a data structure of your choice so that\n",
    "the data is reshaped into a matrix of size 28 × 28."
   ]
  },
  {
   "cell_type": "code",
   "execution_count": 8,
   "id": "c0480f41",
   "metadata": {},
   "outputs": [
    {
     "name": "stdout",
     "output_type": "stream",
     "text": [
      "(1000, 784)\n",
      "2    124\n",
      "0    107\n",
      "7    105\n",
      "4    102\n",
      "9     97\n",
      "6     97\n",
      "1     96\n",
      "8     93\n",
      "3     90\n",
      "5     89\n",
      "Name: label, dtype: int64\n"
     ]
    }
   ],
   "source": [
    "# remove the label, create a y value\n",
    "y_train = train[\"label\"]\n",
    "# create x dataset without the label\n",
    "x_train = train.drop(['label'], axis=1)\n",
    "print(x_train.shape)\n",
    "print(y_train.value_counts())"
   ]
  },
  {
   "cell_type": "code",
   "execution_count": 9,
   "id": "fdb1d62d",
   "metadata": {},
   "outputs": [
    {
     "name": "stdout",
     "output_type": "stream",
     "text": [
      "(1000, 28, 28)\n",
      "<class 'numpy.ndarray'>\n"
     ]
    }
   ],
   "source": [
    "# Reshape into a (1000,28,28) dimension matrix\n",
    "x_train = x_train.values.reshape(-1,28,28)\n",
    "print(x_train.shape)\n",
    "print(type(x_train))"
   ]
  },
  {
   "cell_type": "markdown",
   "id": "3cc9a04a",
   "metadata": {},
   "source": [
    "(c) (5 points) Plot the developed matrix for indices 1, 2, 4, 7, 8, 9, 11, 12, 17, and 22. These\n",
    "indices represent the numerical values from 0 to 9."
   ]
  },
  {
   "cell_type": "markdown",
   "id": "f67b7316",
   "metadata": {},
   "source": [
    "The images for those indices are shown below, however do not represent the numerical values from 0 to 9. Some other indices were chosen after to show the numerical values from 0 to 0 instead. "
   ]
  },
  {
   "cell_type": "code",
   "execution_count": 10,
   "id": "5c4e7a04",
   "metadata": {},
   "outputs": [
    {
     "data": {
      "image/png": "[encoded data removed]",
      "text/plain": [
       "<Figure size 1440x288 with 10 Axes>"
      ]
     },
     "metadata": {
      "needs_background": "light"
     },
     "output_type": "display_data"
    }
   ],
   "source": [
    "import matplotlib.pyplot as plt\n",
    "\n",
    "n = 10  # How many digits we will display\n",
    "plt.figure(figsize=(20, 4))\n",
    "for i in range(n):\n",
    "    ind = [1,2,4,7,8,9,11,12,17,22]\n",
    "    ax = plt.subplot(2, n, i + 1)\n",
    "    plt.imshow(x_train[ind[i]][:,:])\n",
    "plt.show()"
   ]
  },
  {
   "cell_type": "code",
   "execution_count": 11,
   "id": "13b555a1",
   "metadata": {},
   "outputs": [
    {
     "data": {
      "image/png": "[encoded data removed]",
      "text/plain": [
       "<Figure size 1440x288 with 10 Axes>"
      ]
     },
     "metadata": {
      "needs_background": "light"
     },
     "output_type": "display_data"
    }
   ],
   "source": [
    "n = 10  # How many digits we will display\n",
    "plt.figure(figsize=(20, 4))\n",
    "for i in range(n):\n",
    "    ind = [1,2,22,7,3,8,21,6,10,11]\n",
    "    ax = plt.subplot(2, n, i + 1)\n",
    "    plt.imshow(x_train[ind[i]][:,:])\n",
    "plt.show()"
   ]
  },
  {
   "cell_type": "markdown",
   "id": "73575b1e",
   "metadata": {},
   "source": [
    "## Problem 3 - Module 4 \n",
    "*Note this is a Collaborative Problem*   \n",
    "\n",
    "70 Points Total  \n",
    "In this problem each image from the train.csv is to be processed to generate a set of features\n",
    "using the discrete cosine transform and principal component analysis.  "
   ]
  },
  {
   "cell_type": "markdown",
   "id": "bd4944b0",
   "metadata": {},
   "source": [
    "(a) (15 points) Take the 2 dimensional Discrete Cosine Transform (DCT) of each matrix from\n",
    "Problem 2, the matrix represents each number."
   ]
  },
  {
   "cell_type": "markdown",
   "id": "c88a991c",
   "metadata": {},
   "source": [
    "Attempted to first use just the dct() function on its own, but was getting very different results from the people in the discussion. After looking things up online, found the below implemention from stack exchange which gave an example doing a 2D DCT.\n",
    "\n",
    "https://stackoverflow.com/questions/7110899/how-do-i-apply-a-dct-to-an-image-in-python"
   ]
  },
  {
   "cell_type": "code",
   "execution_count": 12,
   "id": "15729b40",
   "metadata": {},
   "outputs": [],
   "source": [
    "from scipy.fftpack import fft, dct\n",
    "def dct2(a):\n",
    "    return dct(dct(a.T).T)"
   ]
  },
  {
   "cell_type": "code",
   "execution_count": 13,
   "id": "a7a5829f",
   "metadata": {},
   "outputs": [
    {
     "data": {
      "text/plain": [
       "(1000, 28, 28)"
      ]
     },
     "execution_count": 13,
     "metadata": {},
     "output_type": "execute_result"
    }
   ],
   "source": [
    "# iterate through the x_train array and call the dct2 function on each number\n",
    "# store the 2d DCT for each first in a list, then convert to an array\n",
    "\n",
    "digits = []\n",
    "for i in range(1000):\n",
    "    dct_i = dct2(x_train[i][:,:])\n",
    "    digits.append(dct_i)\n",
    "digits_dct = np.asarray(digits)\n",
    "digits_dct.shape"
   ]
  },
  {
   "cell_type": "markdown",
   "id": "f640ddfc",
   "metadata": {},
   "source": [
    "Below is code from the discussion from James. Copied it here for a comparison to using the built in dct function in scipy. "
   ]
  },
  {
   "cell_type": "code",
   "execution_count": 14,
   "id": "d924a5d4",
   "metadata": {},
   "outputs": [],
   "source": [
    "# Jame's Method from the discussion\n",
    "def DCT_V2(x: np.ndarray) -> np.ndarray:\n",
    "    n, m    = x.shape\n",
    "    dct_mat = np.zeros((n, m))\n",
    "    \n",
    "    T = np.zeros((n, m))\n",
    "    for i in range(n):\n",
    "        for j in range(n):\n",
    "            if i == 0:\n",
    "                T[i, j] = 1 / sqrt(n)\n",
    "            else:\n",
    "                T[i, j] = (sqrt(2) / sqrt(n)) * cos(((2*j + 1)*(i * pi)) / (2*n))\n",
    "                \n",
    "    dct = T.dot(x).dot(T.T)\n",
    "    return dct"
   ]
  },
  {
   "cell_type": "code",
   "execution_count": 15,
   "id": "28ce41ed",
   "metadata": {},
   "outputs": [
    {
     "data": {
      "text/plain": [
       "(1000, 28, 28)"
      ]
     },
     "execution_count": 15,
     "metadata": {},
     "output_type": "execute_result"
    }
   ],
   "source": [
    "# iterate through the x_train array and call the DCT_V2 function on each number\n",
    "# store the 2d DCT for each first in a list, then convert to an array\n",
    "\n",
    "digits2 = []\n",
    "for i in range(1000):\n",
    "    dct_i2 = DCT_V2(x_train[i][:,:])\n",
    "    digits2.append(dct_i2)\n",
    "digits_dct2 = np.asarray(digits2)\n",
    "digits_dct2.shape"
   ]
  },
  {
   "cell_type": "markdown",
   "id": "d74fe3c9",
   "metadata": {},
   "source": [
    "Below is a comparison of the original image, the results from the dct2 function, and the results from James' function posted in the discussion. The results are similar but have some differences in colors. To stay consistent with the group, will use the digits2 array from the 2nd method for the remaining problems. "
   ]
  },
  {
   "cell_type": "code",
   "execution_count": 16,
   "id": "8d33790c",
   "metadata": {
    "scrolled": true
   },
   "outputs": [
    {
     "data": {
      "text/plain": [
       "<matplotlib.image.AxesImage at 0x17897e37f10>"
      ]
     },
     "execution_count": 16,
     "metadata": {},
     "output_type": "execute_result"
    },
    {
     "data": {
      "image/png": "[encoded data removed]",
      "text/plain": [
       "<Figure size 432x288 with 3 Axes>"
      ]
     },
     "metadata": {
      "needs_background": "light"
     },
     "output_type": "display_data"
    }
   ],
   "source": [
    "f, axarr = plt.subplots(1,3)\n",
    "axarr[0].imshow(x_train[0])\n",
    "axarr[1].imshow(digits_dct[0][:,:])\n",
    "axarr[2].imshow(digits_dct2[0][:,:])"
   ]
  },
  {
   "cell_type": "markdown",
   "id": "42cdfda0",
   "metadata": {},
   "source": [
    "(b) (10 points) Extract the vertical, horizontal and diagonal coefficients from the transform."
   ]
  },
  {
   "cell_type": "markdown",
   "id": "3fafd638",
   "metadata": {},
   "source": [
    "The diagMask, vertMask, and horizMask were copied from the numerical feature generator example code file in MATLAB. "
   ]
  },
  {
   "cell_type": "code",
   "execution_count": 17,
   "id": "d53dc93a",
   "metadata": {},
   "outputs": [],
   "source": [
    "diagMask = np.array([0,0,0,0,0,0,0,0,0,0,0,0,0,0,0,0,0,0,0,0,0,0,0,0,0,0,0,0,\n",
    "            0,1,0,0,0,0,0,0,0,0,0,0,0,0,0,0,0,0,0,0,0,0,0,0,0,0,0,0,\n",
    "            0,0,1,1,0,0,0,0,0,0,0,0,0,0,0,0,0,0,0,0,0,0,0,0,0,0,0,0,\n",
    "            0,0,1,1,1,0,0,0,0,0,0,0,0,0,0,0,0,0,0,0,0,0,0,0,0,0,0,0,\n",
    "            0,0,0,1,1,1,0,0,0,0,0,0,0,0,0,0,0,0,0,0,0,0,0,0,0,0,0,0,\n",
    "            0,0,0,0,1,1,1,0,0,0,0,0,0,0,0,0,0,0,0,0,0,0,0,0,0,0,0,0,\n",
    "            0,0,0,0,0,1,1,1,1,0,0,0,0,0,0,0,0,0,0,0,0,0,0,0,0,0,0,0,\n",
    "            0,0,0,0,0,0,1,1,1,1,1,0,0,0,0,0,0,0,0,0,0,0,0,0,0,0,0,0,\n",
    "            0,0,0,0,0,0,1,1,1,1,1,1,1,0,0,0,0,0,0,0,0,0,0,0,0,0,0,0,\n",
    "            0,0,0,0,0,0,0,1,1,1,1,1,1,1,1,1,0,0,0,0,0,0,0,0,0,0,0,0,\n",
    "            0,0,0,0,0,0,0,1,1,1,1,1,1,1,1,1,1,1,1,0,0,0,0,0,0,0,0,0,\n",
    "            0,0,0,0,0,0,0,0,1,1,1,1,1,1,1,1,1,1,1,1,1,1,0,0,0,0,0,0,\n",
    "            0,0,0,0,0,0,0,0,1,1,1,1,1,1,1,1,1,1,1,1,1,1,1,1,1,0,0,0,\n",
    "            0,0,0,0,0,0,0,0,0,1,1,1,1,1,1,1,1,1,1,1,1,1,1,1,1,1,1,1,\n",
    "            0,0,0,0,0,0,0,0,0,1,1,1,1,1,1,1,1,1,1,1,1,1,1,1,1,1,1,1,\n",
    "            0,0,0,0,0,0,0,0,0,1,1,1,1,1,1,1,1,1,1,1,1,1,1,1,1,1,1,1,\n",
    "            0,0,0,0,0,0,0,0,0,0,1,1,1,1,1,1,1,1,1,1,1,1,1,1,1,1,1,1,\n",
    "            0,0,0,0,0,0,0,0,0,0,1,1,1,1,1,1,1,1,1,1,1,1,1,1,1,1,1,1,\n",
    "            0,0,0,0,0,0,0,0,0,0,1,1,1,1,1,1,1,1,1,1,1,1,1,1,1,1,1,1,\n",
    "            0,0,0,0,0,0,0,0,0,0,0,1,1,1,1,1,1,1,1,1,1,1,1,1,1,1,1,1,\n",
    "            0,0,0,0,0,0,0,0,0,0,0,1,1,1,1,1,1,1,1,1,1,1,1,1,1,1,1,1,\n",
    "            0,0,0,0,0,0,0,0,0,0,0,1,1,1,1,1,1,1,1,1,1,1,1,1,1,1,1,1,\n",
    "            0,0,0,0,0,0,0,0,0,0,0,0,1,1,1,1,1,1,1,1,1,1,1,1,1,1,1,1,\n",
    "            0,0,0,0,0,0,0,0,0,0,0,0,1,1,1,1,1,1,1,1,1,1,1,1,1,1,1,1,\n",
    "            0,0,0,0,0,0,0,0,0,0,0,0,1,1,1,1,1,1,1,1,1,1,1,1,1,1,1,1,\n",
    "            0,0,0,0,0,0,0,0,0,0,0,0,0,1,1,1,1,1,1,1,1,1,1,1,1,1,1,1,\n",
    "            0,0,0,0,0,0,0,0,0,0,0,0,0,1,1,1,1,1,1,1,1,1,1,1,1,1,1,1,\n",
    "            0,0,0,0,0,0,0,0,0,0,0,0,0,1,1,1,1,1,1,1,1,1,1,1,1,1,1,1])\n",
    "vertMask = np.array([0,1,1,1,1,1,1,1,1,1,1,1,1,1,1,1,1,1,1,1,1,1,1,1,1,1,1,1,\n",
    "            0,0,1,1,1,1,1,1,1,1,1,1,1,1,1,1,1,1,1,1,1,1,1,1,1,1,1,1,\n",
    "            0,0,0,0,1,1,1,1,1,1,1,1,1,1,1,1,1,1,1,1,1,1,1,1,1,1,1,1,\n",
    "            0,0,0,0,0,1,1,1,1,1,1,1,1,1,1,1,1,1,1,1,1,1,1,1,1,1,1,1,\n",
    "            0,0,0,0,0,0,1,1,1,1,1,1,1,1,1,1,1,1,1,1,1,1,1,1,1,1,1,1,\n",
    "            0,0,0,0,0,0,0,1,1,1,1,1,1,1,1,1,1,1,1,1,1,1,1,1,1,1,1,1,\n",
    "            0,0,0,0,0,0,0,0,0,1,1,1,1,1,1,1,1,1,1,1,1,1,1,1,1,1,1,1,\n",
    "            0,0,0,0,0,0,0,0,0,0,0,1,1,1,1,1,1,1,1,1,1,1,1,1,1,1,1,1,\n",
    "            0,0,0,0,0,0,0,0,0,0,0,0,0,1,1,1,1,1,1,1,1,1,1,1,1,1,1,1,\n",
    "            0,0,0,0,0,0,0,0,0,0,0,0,0,0,0,0,1,1,1,1,1,1,1,1,1,1,1,1,\n",
    "            0,0,0,0,0,0,0,0,0,0,0,0,0,0,0,0,0,0,0,1,1,1,1,1,1,1,1,1,\n",
    "            0,0,0,0,0,0,0,0,0,0,0,0,0,0,0,0,0,0,0,0,0,0,1,1,1,1,1,1,\n",
    "            0,0,0,0,0,0,0,0,0,0,0,0,0,0,0,0,0,0,0,0,0,0,0,0,0,1,1,1,\n",
    "            0,0,0,0,0,0,0,0,0,0,0,0,0,0,0,0,0,0,0,0,0,0,0,0,0,0,0,0,\n",
    "            0,0,0,0,0,0,0,0,0,0,0,0,0,0,0,0,0,0,0,0,0,0,0,0,0,0,0,0,\n",
    "            0,0,0,0,0,0,0,0,0,0,0,0,0,0,0,0,0,0,0,0,0,0,0,0,0,0,0,0,\n",
    "            0,0,0,0,0,0,0,0,0,0,0,0,0,0,0,0,0,0,0,0,0,0,0,0,0,0,0,0,\n",
    "            0,0,0,0,0,0,0,0,0,0,0,0,0,0,0,0,0,0,0,0,0,0,0,0,0,0,0,0,\n",
    "            0,0,0,0,0,0,0,0,0,0,0,0,0,0,0,0,0,0,0,0,0,0,0,0,0,0,0,0,\n",
    "            0,0,0,0,0,0,0,0,0,0,0,0,0,0,0,0,0,0,0,0,0,0,0,0,0,0,0,0,\n",
    "            0,0,0,0,0,0,0,0,0,0,0,0,0,0,0,0,0,0,0,0,0,0,0,0,0,0,0,0,\n",
    "            0,0,0,0,0,0,0,0,0,0,0,0,0,0,0,0,0,0,0,0,0,0,0,0,0,0,0,0,\n",
    "            0,0,0,0,0,0,0,0,0,0,0,0,0,0,0,0,0,0,0,0,0,0,0,0,0,0,0,0,\n",
    "            0,0,0,0,0,0,0,0,0,0,0,0,0,0,0,0,0,0,0,0,0,0,0,0,0,0,0,0,\n",
    "            0,0,0,0,0,0,0,0,0,0,0,0,0,0,0,0,0,0,0,0,0,0,0,0,0,0,0,0,\n",
    "            0,0,0,0,0,0,0,0,0,0,0,0,0,0,0,0,0,0,0,0,0,0,0,0,0,0,0,0,\n",
    "            0,0,0,0,0,0,0,0,0,0,0,0,0,0,0,0,0,0,0,0,0,0,0,0,0,0,0,0,\n",
    "            0,0,0,0,0,0,0,0,0,0,0,0,0,0,0,0,0,0,0,0,0,0,0,0,0,0,0,0])\n",
    "horizMask = np.array([0,0,0,0,0,0,0,0,0,0,0,0,0,0,0,0,0,0,0,0,0,0,0,0,0,0,0,0,\n",
    "             1,0,0,0,0,0,0,0,0,0,0,0,0,0,0,0,0,0,0,0,0,0,0,0,0,0,0,0,\n",
    "             1,1,0,0,0,0,0,0,0,0,0,0,0,0,0,0,0,0,0,0,0,0,0,0,0,0,0,0,\n",
    "             1,1,0,0,0,0,0,0,0,0,0,0,0,0,0,0,0,0,0,0,0,0,0,0,0,0,0,0,\n",
    "             1,1,1,0,0,0,0,0,0,0,0,0,0,0,0,0,0,0,0,0,0,0,0,0,0,0,0,0,\n",
    "             1,1,1,1,0,0,0,0,0,0,0,0,0,0,0,0,0,0,0,0,0,0,0,0,0,0,0,0,\n",
    "             1,1,1,1,1,0,0,0,0,0,0,0,0,0,0,0,0,0,0,0,0,0,0,0,0,0,0,0,\n",
    "             1,1,1,1,1,1,0,0,0,0,0,0,0,0,0,0,0,0,0,0,0,0,0,0,0,0,0,0,\n",
    "             1,1,1,1,1,1,0,0,0,0,0,0,0,0,0,0,0,0,0,0,0,0,0,0,0,0,0,0,\n",
    "             1,1,1,1,1,1,1,0,0,0,0,0,0,0,0,0,0,0,0,0,0,0,0,0,0,0,0,0,\n",
    "             1,1,1,1,1,1,1,0,0,0,0,0,0,0,0,0,0,0,0,0,0,0,0,0,0,0,0,0,\n",
    "             1,1,1,1,1,1,1,1,0,0,0,0,0,0,0,0,0,0,0,0,0,0,0,0,0,0,0,0,\n",
    "             1,1,1,1,1,1,1,1,0,0,0,0,0,0,0,0,0,0,0,0,0,0,0,0,0,0,0,0,\n",
    "             1,1,1,1,1,1,1,1,1,0,0,0,0,0,0,0,0,0,0,0,0,0,0,0,0,0,0,0,\n",
    "             1,1,1,1,1,1,1,1,1,0,0,0,0,0,0,0,0,0,0,0,0,0,0,0,0,0,0,0,\n",
    "             1,1,1,1,1,1,1,1,1,0,0,0,0,0,0,0,0,0,0,0,0,0,0,0,0,0,0,0,\n",
    "             1,1,1,1,1,1,1,1,1,1,0,0,0,0,0,0,0,0,0,0,0,0,0,0,0,0,0,0,\n",
    "             1,1,1,1,1,1,1,1,1,1,0,0,0,0,0,0,0,0,0,0,0,0,0,0,0,0,0,0,\n",
    "             1,1,1,1,1,1,1,1,1,1,0,0,0,0,0,0,0,0,0,0,0,0,0,0,0,0,0,0,\n",
    "             1,1,1,1,1,1,1,1,1,1,1,0,0,0,0,0,0,0,0,0,0,0,0,0,0,0,0,0,\n",
    "             1,1,1,1,1,1,1,1,1,1,1,0,0,0,0,0,0,0,0,0,0,0,0,0,0,0,0,0,\n",
    "             1,1,1,1,1,1,1,1,1,1,1,0,0,0,0,0,0,0,0,0,0,0,0,0,0,0,0,0,\n",
    "             1,1,1,1,1,1,1,1,1,1,1,1,0,0,0,0,0,0,0,0,0,0,0,0,0,0,0,0,\n",
    "             1,1,1,1,1,1,1,1,1,1,1,1,0,0,0,0,0,0,0,0,0,0,0,0,0,0,0,0,\n",
    "             1,1,1,1,1,1,1,1,1,1,1,1,0,0,0,0,0,0,0,0,0,0,0,0,0,0,0,0,\n",
    "             1,1,1,1,1,1,1,1,1,1,1,1,1,0,0,0,0,0,0,0,0,0,0,0,0,0,0,0,\n",
    "             1,1,1,1,1,1,1,1,1,1,1,1,1,0,0,0,0,0,0,0,0,0,0,0,0,0,0,0,\n",
    "             1,1,1,1,1,1,1,1,1,1,1,1,1,0,0,0,0,0,0,0,0,0,0,0,0,0,0,0])"
   ]
  },
  {
   "cell_type": "code",
   "execution_count": 18,
   "id": "d6b26fbe",
   "metadata": {},
   "outputs": [],
   "source": [
    "diagMask = diagMask.reshape(28,28)\n",
    "vertMask = vertMask.reshape(28,28)\n",
    "horizMask = horizMask.reshape(28,28)"
   ]
  },
  {
   "cell_type": "markdown",
   "id": "137491d7",
   "metadata": {},
   "source": [
    "Attempted to find indices using the np.argwhere() function. However, the results were a 2-D array rather than 1-D. Using the astype(bool) as seen in a discussion post was helpful to easily identify the indices. "
   ]
  },
  {
   "cell_type": "code",
   "execution_count": 19,
   "id": "07660ffe",
   "metadata": {},
   "outputs": [],
   "source": [
    "# indexD = np.argwhere(diagMask==1)\n",
    "# indexV = np.argwhere(vertMask ==1)\n",
    "# indexH = np.argwhere(horizMask==1)\n",
    "\n",
    "# used this method from discussion to index. using np.argwhere gave a 2-d matrix instead\n",
    "indexD = diagMask.astype(bool)\n",
    "indexV = vertMask.astype(bool)\n",
    "indexH = horizMask.astype(bool)"
   ]
  },
  {
   "cell_type": "markdown",
   "id": "da4a09e2",
   "metadata": {},
   "source": [
    "Followed example from numericalFeatureGeneratorExample(1).m to write the following loop."
   ]
  },
  {
   "cell_type": "code",
   "execution_count": 20,
   "id": "bed603e2",
   "metadata": {},
   "outputs": [],
   "source": [
    "dataD = []\n",
    "dataV = []\n",
    "dataH = []\n",
    "for i in range(1000):\n",
    "#     dataD.append(digits_dct2[i,:,:][indexD])\n",
    "#     dataV.append(digits_dct2[i,:,:][indexV])\n",
    "#     dataH.append(digits_dct2[i,:,:][indexH])\n",
    "    imgD = np.multiply(digits_dct2[i,:,:],diagMask)\n",
    "    imgV = np.multiply(digits_dct2[i,:,:],vertMask)\n",
    "    imgH = np.multiply(digits_dct2[i,:,:],horizMask)\n",
    "    \n",
    "    dataD.append(imgD[indexD])\n",
    "    dataV.append(imgV[indexV])\n",
    "    dataH.append(imgH[indexH])\n",
    "    \n",
    "dataD = np.asarray(dataD)\n",
    "dataV = np.asarray(dataV)\n",
    "dataH = np.asarray(dataH)"
   ]
  },
  {
   "cell_type": "code",
   "execution_count": 21,
   "id": "98dcce2e",
   "metadata": {},
   "outputs": [
    {
     "name": "stdout",
     "output_type": "stream",
     "text": [
      "(1000, 335)\n",
      "(1000, 224)\n",
      "(1000, 224)\n"
     ]
    }
   ],
   "source": [
    "print(dataD.shape)\n",
    "print(dataV.shape)\n",
    "print(dataH.shape)"
   ]
  },
  {
   "cell_type": "markdown",
   "id": "bc2fd050",
   "metadata": {},
   "source": [
    "(c) (15 points) For each of the three sets of DCT coefficients perform Principal Component\n",
    "Analysis (PCA)."
   ]
  },
  {
   "cell_type": "code",
   "execution_count": 22,
   "id": "6cf459a1",
   "metadata": {},
   "outputs": [],
   "source": [
    "from sklearn.decomposition import PCA"
   ]
  },
  {
   "cell_type": "code",
   "execution_count": 23,
   "id": "3591e54b",
   "metadata": {},
   "outputs": [],
   "source": [
    "pcaD = PCA()\n",
    "fitD = pcaD.fit_transform(dataD)"
   ]
  },
  {
   "cell_type": "code",
   "execution_count": 24,
   "id": "0c073909",
   "metadata": {},
   "outputs": [],
   "source": [
    "pcaV = PCA()\n",
    "fitV = pcaV.fit_transform(dataV)"
   ]
  },
  {
   "cell_type": "code",
   "execution_count": 25,
   "id": "dba0361d",
   "metadata": {},
   "outputs": [],
   "source": [
    "pcaH = PCA()\n",
    "fitH = pcaH.fit_transform(dataH)"
   ]
  },
  {
   "cell_type": "markdown",
   "id": "12c69c86",
   "metadata": {},
   "source": [
    "Attempt 2 - Following the example from numericalFeatureGenerator(1).m and this post from stack exchange to recreate MATLAB's pcacov() function in python.  \n",
    "https://stackoverflow.com/questions/47048812/matlabs-pcacov-on-numpy-scipy"
   ]
  },
  {
   "cell_type": "code",
   "execution_count": 26,
   "id": "6257bdf0",
   "metadata": {},
   "outputs": [],
   "source": [
    "eigValD, eigVecD = np.linalg.eigh(np.cov(dataD.T))"
   ]
  },
  {
   "cell_type": "code",
   "execution_count": 27,
   "id": "5cfcc7b0",
   "metadata": {},
   "outputs": [],
   "source": [
    "eigValV, eigVecV = np.linalg.eigh(np.cov(dataV.T))"
   ]
  },
  {
   "cell_type": "code",
   "execution_count": 28,
   "id": "8c4547bf",
   "metadata": {},
   "outputs": [],
   "source": [
    "eigValH, eigVecH = np.linalg.eigh(np.cov(dataH.T))"
   ]
  },
  {
   "cell_type": "markdown",
   "id": "c7ab57f4",
   "metadata": {},
   "source": [
    "(d) (10 Points) Retain either the top n number of principal components or the top principal\n",
    "components with maximum variance."
   ]
  },
  {
   "cell_type": "markdown",
   "id": "393654e4",
   "metadata": {},
   "source": [
    "From the discussion, decided to also retain n = 10 principal components for the vertical and horizontal arrays and n = 15 for the diagonal. "
   ]
  },
  {
   "cell_type": "markdown",
   "id": "8a170bab",
   "metadata": {},
   "source": [
    "**Diagonal**"
   ]
  },
  {
   "cell_type": "code",
   "execution_count": 29,
   "id": "3db15854",
   "metadata": {},
   "outputs": [
    {
     "name": "stdout",
     "output_type": "stream",
     "text": [
      "[0.13559164 0.10329745 0.07645712 0.06600328 0.05991518 0.04425302\n",
      " 0.04296079 0.03945775 0.03110731 0.02575539 0.02352599 0.0205511\n",
      " 0.01823407 0.01649497 0.01616316]\n"
     ]
    }
   ],
   "source": [
    "valuesD = pcaD.explained_variance_ratio_\n",
    "print(valuesD[0:15])"
   ]
  },
  {
   "cell_type": "code",
   "execution_count": 30,
   "id": "b4b44b28",
   "metadata": {},
   "outputs": [
    {
     "data": {
      "text/plain": [
       "array([47, 48, 49, 50, 51, 52, 53, 54, 55, 56, 57, 58, 59, 60, 61],\n",
       "      dtype=int64)"
      ]
     },
     "execution_count": 30,
     "metadata": {},
     "output_type": "execute_result"
    }
   ],
   "source": [
    "indxD = np.where(eigValD >= 4)\n",
    "indxD_top = indxD[0][:15,]\n",
    "indxD_top"
   ]
  },
  {
   "cell_type": "markdown",
   "id": "384175f2",
   "metadata": {},
   "source": [
    "**Vertical**"
   ]
  },
  {
   "cell_type": "code",
   "execution_count": 31,
   "id": "467bfa36",
   "metadata": {},
   "outputs": [
    {
     "name": "stdout",
     "output_type": "stream",
     "text": [
      "[0.16887464 0.10472441 0.07449422 0.06795881 0.05589539 0.04553234\n",
      " 0.03769831 0.03507698 0.02923143 0.02816771]\n"
     ]
    }
   ],
   "source": [
    "valuesV = pcaV.explained_variance_ratio_\n",
    "print(valuesV[0:10])"
   ]
  },
  {
   "cell_type": "code",
   "execution_count": 32,
   "id": "01c57679",
   "metadata": {},
   "outputs": [
    {
     "data": {
      "text/plain": [
       "array([30, 31, 32, 33, 34, 35, 36, 37, 38, 39], dtype=int64)"
      ]
     },
     "execution_count": 32,
     "metadata": {},
     "output_type": "execute_result"
    }
   ],
   "source": [
    "indxV = np.where(eigValV >= 4)\n",
    "indxV_top = indxV[0][:10,]\n",
    "indxV_top"
   ]
  },
  {
   "cell_type": "markdown",
   "id": "c2a74a11",
   "metadata": {},
   "source": [
    "**Horizontal**"
   ]
  },
  {
   "cell_type": "code",
   "execution_count": 33,
   "id": "a4aca688",
   "metadata": {},
   "outputs": [
    {
     "name": "stdout",
     "output_type": "stream",
     "text": [
      "[0.14605074 0.12023431 0.08329107 0.06378547 0.057137   0.04493399\n",
      " 0.03683886 0.0350112  0.02992819 0.02632048]\n"
     ]
    }
   ],
   "source": [
    "valuesH = pcaH.explained_variance_ratio_\n",
    "print(valuesH[0:10])"
   ]
  },
  {
   "cell_type": "code",
   "execution_count": 34,
   "id": "6dbf0f7c",
   "metadata": {},
   "outputs": [
    {
     "data": {
      "text/plain": [
       "array([31, 32, 33, 34, 35, 36, 37, 38, 39, 40], dtype=int64)"
      ]
     },
     "execution_count": 34,
     "metadata": {},
     "output_type": "execute_result"
    }
   ],
   "source": [
    "indxH = np.where(eigValH >= 4)\n",
    "indxH_top = indxH[0][:10,]\n",
    "indxH_top"
   ]
  },
  {
   "cell_type": "markdown",
   "id": "f29ef600",
   "metadata": {},
   "source": [
    "(e) (15 points) Use your top principal components to reduce the DCT transformed data. This will create a lower-dimensional representation of the data set."
   ]
  },
  {
   "cell_type": "markdown",
   "id": "d98e6005",
   "metadata": {},
   "source": [
    "Redued the dimensions of the matrices by slicing the DCT transformed data. "
   ]
  },
  {
   "cell_type": "code",
   "execution_count": 35,
   "id": "96d78d5c",
   "metadata": {},
   "outputs": [
    {
     "data": {
      "text/plain": [
       "(1000, 15)"
      ]
     },
     "execution_count": 35,
     "metadata": {},
     "output_type": "execute_result"
    }
   ],
   "source": [
    "reducedD = dataD[:,indxD_top] #dataD[:,0:15]\n",
    "reducedD.shape"
   ]
  },
  {
   "cell_type": "code",
   "execution_count": 36,
   "id": "3ef67308",
   "metadata": {},
   "outputs": [
    {
     "data": {
      "text/plain": [
       "(1000, 10)"
      ]
     },
     "execution_count": 36,
     "metadata": {},
     "output_type": "execute_result"
    }
   ],
   "source": [
    "reducedV = dataV[:,indxV_top] #dataV[:,0:10]\n",
    "reducedV.shape"
   ]
  },
  {
   "cell_type": "code",
   "execution_count": 37,
   "id": "ef0f4197",
   "metadata": {},
   "outputs": [
    {
     "data": {
      "text/plain": [
       "(1000, 10)"
      ]
     },
     "execution_count": 37,
     "metadata": {},
     "output_type": "execute_result"
    }
   ],
   "source": [
    "reducedH = dataH[:,indxH_top] #dataH[:,0:10]\n",
    "reducedH.shape"
   ]
  },
  {
   "cell_type": "markdown",
   "id": "e2e4c36f",
   "metadata": {},
   "source": [
    "(f) (5 points) Save the new data in a file of your choice, *.txt, *.csv, etc."
   ]
  },
  {
   "cell_type": "markdown",
   "id": "a83f4930",
   "metadata": {},
   "source": [
    "Converted from a numpy array to data frame then used the df.to_csv() function."
   ]
  },
  {
   "cell_type": "code",
   "execution_count": 38,
   "id": "1884ca46",
   "metadata": {},
   "outputs": [],
   "source": [
    "reducedD = pd.DataFrame(reducedD)\n",
    "reducedV = pd.DataFrame(reducedV)\n",
    "reducedH = pd.DataFrame(reducedH)"
   ]
  },
  {
   "cell_type": "code",
   "execution_count": 39,
   "id": "a4a3a92a",
   "metadata": {},
   "outputs": [],
   "source": [
    "reducedD.to_csv('reduced_diag.csv',index=False)\n",
    "reducedV.to_csv('reduced_vert.csv',index=False)\n",
    "reducedH.to_csv('reduced_horiz.csv',index=False)"
   ]
  },
  {
   "cell_type": "markdown",
   "id": "fe9b834c",
   "metadata": {},
   "source": [
    "## Problem 4 - Module 5 \n",
    "*This is a Collaborative Problem*  \n",
    "\n",
    "5 Points Total + 25 Bonus Points  \n",
    "In this problem, you will be developing pseudocode and implementing your development in\n",
    "Python or R for the Expectation Maximization method. You are allowed to use either the Iris\n",
    "data set or the developed numerical features from HW2. In this problem the following is to be\n",
    "completed:"
   ]
  },
  {
   "cell_type": "markdown",
   "id": "aee33d67",
   "metadata": {},
   "source": [
    "(a) (5 Points) Use a built-in Gaussian Mixture model to cluster the Iris data (the petal length\n",
    "and petal width features) into 3 clusters. This is a good reference Iris Exploration (PCA,\n",
    "k-Means and GMM clustering)."
   ]
  },
  {
   "cell_type": "code",
   "execution_count": 40,
   "id": "5a036138",
   "metadata": {},
   "outputs": [],
   "source": [
    "features=['petal_length',\n",
    "          'petal_width']\n",
    "iris_petal = iris[features]"
   ]
  },
  {
   "cell_type": "code",
   "execution_count": 41,
   "id": "971b3dd9",
   "metadata": {},
   "outputs": [],
   "source": [
    "from sklearn.mixture import GaussianMixture\n",
    "gm = GaussianMixture(n_components=3, random_state=0).fit(iris_petal)"
   ]
  },
  {
   "cell_type": "markdown",
   "id": "749e40d0",
   "metadata": {},
   "source": [
    "Code for plotting is from: <br>\n",
    "https://www.analyticsvidhya.com/blog/2019/10/gaussian-mixture-models-clustering/#:~:text=Gaussian%20Mixture%20Models%20(GMMs)%20assume,to%20a%20single%20distribution%20together"
   ]
  },
  {
   "cell_type": "code",
   "execution_count": 42,
   "id": "fbef7562",
   "metadata": {},
   "outputs": [
    {
     "data": {
      "image/png": "[encoded data removed]",
      "text/plain": [
       "<Figure size 432x288 with 1 Axes>"
      ]
     },
     "metadata": {
      "needs_background": "light"
     },
     "output_type": "display_data"
    }
   ],
   "source": [
    "# Get labels\n",
    "labels = gm.predict(iris_petal)\n",
    "frame = pd.DataFrame(iris_petal)\n",
    "frame['cluster'] = labels\n",
    "frame.columns = ['Weight', 'Height', 'cluster']\n",
    "\n",
    "color=['blue','green','cyan', 'black']\n",
    "for k in range(0,4):\n",
    "    data = frame[frame[\"cluster\"]==k]\n",
    "    plt.scatter(data[\"Weight\"],data[\"Height\"],c=color[k])\n",
    "plt.show()"
   ]
  },
  {
   "cell_type": "markdown",
   "id": "6665b4b1",
   "metadata": {},
   "source": [
    "(b) (10 points) The development and implementation of the Expectation Maximization method.\n",
    "The implementation should be for a generic number of clusters, features and observations."
   ]
  },
  {
   "cell_type": "markdown",
   "id": "ba414034",
   "metadata": {},
   "source": [
    "From EM slides in class: \n",
    "\n",
    "Input Data --> Initialize mean, signma, and probability --> Complete E Step then M Step until mean, signma, and probability converge --> If convergence, then membership probabilities"
   ]
  },
  {
   "cell_type": "markdown",
   "id": "619ba23b",
   "metadata": {},
   "source": [
    "Attempting to adapt MATLAB code from \"simpleExpectationMaximization.m\" for this problem and used the following link as an additional resource. \n",
    "\n",
    "https://colab.research.google.com/github/krasserm/bayesian-machine-learning/blob/master/latent_variable_models_part_1.ipynb#scrollTo=EynBcbPYutmB"
   ]
  },
  {
   "cell_type": "code",
   "execution_count": null,
   "id": "d4a3b3b8",
   "metadata": {},
   "outputs": [],
   "source": [
    "def EM(data, prob, m, sigma,K, threshold):\n",
    "    \"\"\"\n",
    "    EM Algorithm: given initial estimates of p, mu, and sigma, the EM will \n",
    "    iterate until convergence to a local max of the likelihood function\n",
    "    \n",
    "    Args: \n",
    "        data: observed data with shape (N,D)\n",
    "        prob: posterior probabilities\n",
    "        m: mu, component means\n",
    "        sigma: component covariances\n",
    "        k: number of sub populations\n",
    "    \n",
    "    \"\"\" \n",
    "    N,D = data.shape # observed data with shape (N,D)\n",
    "    initializeD = np.ones(shape = (D, 1))\n",
    "    initializeN = np.ones(shape = (1, N))\n",
    "    numberOfIterations = 0\n",
    "    \n",
    "    while True:\n",
    "        # Initialize mu, sigma, and probability\n",
    "        meanPrevious = m\n",
    "        sigmaPrevious = sigma\n",
    "        probabilityPrevious = prob\n",
    "        \n",
    "        # E step #\n",
    "        # Conditional prob is generated\n",
    "        for k in range(K):\n",
    "            g[k,:] = (exp(-sum((data - m[:, k]*np.ones(shape=(1,data.shape[1]))**2)/(sigma(k)^2)/2)/(sqrt(2*pi)*sigma(k))^D))\n",
    "            probKg[k, :]= prob(k)*g[k,:]\n",
    "\n",
    "        prob_ikn =  np.divide(probKg,(np.ones(shape = K.shape[0]))*sum( probKg))\n",
    "\n",
    "        # M Step #\n",
    "        sum_prob_ikn = sum(prob_ikn)\n",
    "        for k in range(k):\n",
    "            # compute means\n",
    "            m[:, k] = sum((np.multiply((initializeD *prob_ikn[k, :]),data) /sum_prob_ikn(k)))\n",
    "            # compute standard deviations\n",
    "            sigma[k] = sqrt(sum(sum(np.multiply((data- m[:, k] * initializeN)**2),prob_ikn[k, :]))/sum_prob_ikn(k)/D)\n",
    "        # Mixing probabilites\n",
    "        prob=sum_prob_ikn/sum(sum_prob_ikn)\n",
    "\n",
    "        # check for convergence\n",
    "        meanDelta = max(sqrt(sum((m - meanPrevious)**2)))\n",
    "        sMean = mean(sqrt(sum(m**2)))\n",
    "\n",
    "        sigmaDelta = max(sqrt(sum((sigma - sigmaPrevious)**2)))\n",
    "        sSignma = mean(sqrt(sum(sigma**2)))\n",
    "\n",
    "        pDelta = max(sqrt(sum((prob - probabilityPrevious)**2)))\n",
    "        sProbability = mean(sqrt(sum(prob**2)))\n",
    "\n",
    "        if ((meanDelta<= sMean*threshold)&(sigmaDelta <= sSignma * threshold)&(pDelta <= sProbability * threshold)):\n",
    "            break\n",
    "    return prob, m, sigma, prob_ikn, numberOfIterations"
   ]
  },
  {
   "cell_type": "markdown",
   "id": "eb6bc2bf",
   "metadata": {},
   "source": [
    "(c) Apply your implementation using either the Iris data or the features generated from from\n",
    "Problem 2.  \n",
    "i. Use the top two ranked features.  \n",
    "ii. (5 points) Create 3 clusters for the Iris data or 4 clusters using the 4 numerical values\n",
    "that have the best separation.  \n",
    "iii. (5 points) Display the 3 species or 4 numerical values using different colors for a good\n",
    "visual representation.  \n",
    "iv. (5 points) Provide an analysis of your results, e.g., what is your observation of the\n",
    "results, how well did the clusters group each class, etc  "
   ]
  },
  {
   "cell_type": "markdown",
   "id": "d17a4bad",
   "metadata": {},
   "source": [
    "## References<br>\n",
    "[1] Bishop, Christopher M., Pattern Recognition and Machine Learning, Springer, 2006, <br>\n",
    "[2] Dempster, A. P., Laird, N. M. and Rubin, D. B., Maximum likelihood from incomplete data\n",
    "via the EM algorithm, Journal of the Royal Statistical Society B, Volume 39, Number 1,\n",
    "pp.1–22, 1977<br>\n",
    "[3] Dillon, and Goldstein, M.. Multivariate Analysis Methods and Applications, John Wiley,\n",
    "1984 https://www.microsoft.com/en-us/research/uploads/prod/2006/01/Bishop-Pattern-Recognition\u0002and-Machine-Learning-2006.pdf<br>\n",
    "[4] Duin, Robert P.W., Tax, David and Pekalska, Elzbieta, PRTools, http://prtools.tudelft.nl/<br>\n",
    "[5] Fisher, R.A., The use of Multiple Measurements in Taxonomic Problems, Annals of Human\n",
    "Genetics, Vol. 7, Issue 2, pp. 179-188, 1936<br>\n",
    "[6] Hotelling, H., Analysis of a complex of statistical variables into principal components, Jour\u0002nal of Educational Psychology, Number 24, pp. 417–441, 1933<br>\n",
    "[7] Rao, K. P. and Yip, P., Discrete Cosine Transform Algorithms, Advantages, Applications,\n",
    "San Diego, CA: Academic Press, Inc., 1990<br>\n",
    "[8] Tomasi, C., Estimating Gaussian Mixture Densities with EM – A Tutorial, Duke University\n",
    "Course Notes, 2006, http://www.cs.duke.edu/courses/spring04/cps196.1/handouts/EM/tomasiEM.pdf,\n",
    "Retrieved Sept 2006<br>"
   ]
  },
  {
   "cell_type": "markdown",
   "id": "ea491ce6",
   "metadata": {},
   "source": [
    "### Reference Links\n",
    "1. https://www.kaggle.com/code/bburns/iris-exploration-pca-k-means-and-gmm-clustering\n",
    "2. https://stackoverflow.com/questions/7110899/how-do-i-apply-a-dct-to-an-image-in-python\n",
    "3. https://stackoverflow.com/questions/47048812/matlabs-pcacov-on-numpy-scipy\n",
    "4. https://www.analyticsvidhya.com/blog/2019/10/gaussian-mixture-models-clustering/#:~:text=Gaussian%20Mixture%20Models%20(GMMs)%20assume,to%20a%20single%20distribution%20together\n",
    "5. https://colab.research.google.com/github/krasserm/bayesian-machine-learning/blob/master/latent_variable_models_part_1.ipynb#scrollTo=EynBcbPYutmB"
   ]
  },
  {
   "cell_type": "code",
   "execution_count": null,
   "id": "df9348d4",
   "metadata": {},
   "outputs": [],
   "source": []
  }
 ],
 "metadata": {
  "kernelspec": {
   "display_name": "Python 3 (ipykernel)",
   "language": "python",
   "name": "python3"
  },
  "language_info": {
   "codemirror_mode": {
    "name": "ipython",
    "version": 3
   },
   "file_extension": ".py",
   "mimetype": "text/x-python",
   "name": "python",
   "nbconvert_exporter": "python",
   "pygments_lexer": "ipython3",
   "version": "3.9.6"
  }
 },
 "nbformat": 4,
 "nbformat_minor": 5
}
